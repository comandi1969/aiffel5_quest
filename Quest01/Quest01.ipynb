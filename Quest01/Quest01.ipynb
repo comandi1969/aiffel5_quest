{
  "nbformat": 4,
  "nbformat_minor": 0,
  "metadata": {
    "colab": {
      "provenance": [],
      "include_colab_link": true
    },
    "kernelspec": {
      "name": "python3",
      "display_name": "Python 3"
    },
    "language_info": {
      "name": "python"
    }
  },
  "cells": [
    {
      "cell_type": "markdown",
      "metadata": {
        "id": "view-in-github",
        "colab_type": "text"
      },
      "source": [
        "<a href=\"https://colab.research.google.com/github/ralphpark/aiffel5_quest/blob/main/Quest01/Quest01.ipynb\" target=\"_parent\"><img src=\"https://colab.research.google.com/assets/colab-badge.svg\" alt=\"Open In Colab\"/></a>"
      ]
    },
    {
      "cell_type": "code",
      "execution_count": null,
      "metadata": {
        "id": "zoIDIb0jWw5n",
        "colab": {
          "base_uri": "https://localhost:8080/"
        },
        "outputId": "0f1644ea-e052-4529-e3f6-000ca3cfeb1d"
      },
      "outputs": [
        {
          "output_type": "stream",
          "name": "stdout",
          "text": [
            "단어를 입력하세요신지만\n",
            "회문이 아닙니다.\n",
            "뒤집힌 단어는 : 만지신\n"
          ]
        }
      ],
      "source": [
        "def is_word (word):\n",
        "    word1 = word\n",
        "    reverse_word1 = word1[::-1]\n",
        "\n",
        "    if word1 == reverse_word1:\n",
        "      print(\"뒤집힌 단어는 :\", reverse_word1)\n",
        "      print(\"회문이 맞습니다.\")\n",
        "\n",
        "    else:\n",
        "      print(\"뒤집힌 단어는 :\", reverse_word1)\n",
        "      print(\"회문이 아닙니다.\")\n",
        "\n",
        "\n",
        "\n",
        "word = str(input('단어를 입력하세요 : '))\n",
        "is_word(word)\n",
        "\n",
        "\n",
        "\n"
      ]
    }
  ]
}