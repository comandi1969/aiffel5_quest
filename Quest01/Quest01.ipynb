{
  "nbformat": 4,
  "nbformat_minor": 0,
  "metadata": {
    "colab": {
      "provenance": [],
      "include_colab_link": true
    },
    "kernelspec": {
      "name": "python3",
      "display_name": "Python 3"
    },
    "language_info": {
      "name": "python"
    }
  },
  "cells": [
    {
      "cell_type": "markdown",
      "metadata": {
        "id": "view-in-github",
        "colab_type": "text"
      },
      "source": [
        "<a href=\"https://colab.research.google.com/github/ralphpark/aiffel5_quest/blob/main/Quest01/Quest01.ipynb\" target=\"_parent\"><img src=\"https://colab.research.google.com/assets/colab-badge.svg\" alt=\"Open In Colab\"/></a>"
      ]
    },
    {
      "cell_type": "code",
      "execution_count": 6,
      "metadata": {
        "id": "zoIDIb0jWw5n",
        "colab": {
          "base_uri": "https://localhost:8080/"
        },
        "outputId": "3758a871-cb15-4abe-9f65-55d84c7bdf48"
      },
      "outputs": [
        {
          "output_type": "stream",
          "name": "stdout",
          "text": [
            "단어를 입력하세요 : 박근수\n",
            "뒤집힌 단어는 : 수근박\n",
            "입력된 단어는 회문이 아닙니다.\n"
          ]
        }
      ],
      "source": [
        "def is_word (word):\n",
        "    word1 = word\n",
        "    reverse_word1 = word1[::-1]\n",
        "    print(\"뒤집힌 단어는 :\", reverse_word1)\n",
        "    if word1 == reverse_word1:\n",
        "      print(\"입력된 단어는 회문입니다.\")\n",
        "\n",
        "    else:\n",
        "      print(\"입력된 단어는 회문이 아닙니다.\")\n",
        "\n",
        "\n",
        "\n",
        "word = str(input('단어를 입력하세요 : '))\n",
        "is_word(word)\n",
        "\n",
        "\n",
        "\n"
      ]
    }
  ]
}